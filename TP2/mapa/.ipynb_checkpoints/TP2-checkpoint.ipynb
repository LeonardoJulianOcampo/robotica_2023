{
 "cells": [
  {
   "cell_type": "code",
   "execution_count": 14,
   "id": "a5270f93",
   "metadata": {},
   "outputs": [],
   "source": [
    "import matplotlib as plt\n",
    "import numpy as np\n",
    "import math\n",
    "\n",
    "odom_data = open(\"odom.txt\",\"r\")\n",
    "scan_data = open(\"scan.txt\",\"r\")\n",
    "\n",
    "odom_timestamps = []\n",
    "odom_measures   = []\n",
    "odom_x = []\n",
    "odom_y = []\n",
    "odom_theta      = []\n",
    "\n",
    "\n",
    "scan_timestamps = []\n",
    "scan_values   = []\n",
    "scan_x = []\n",
    "scan_y = []\n",
    "scan_angles = []\n"
   ]
  },
  {
   "cell_type": "code",
   "execution_count": 15,
   "id": "4d3bc255",
   "metadata": {},
   "outputs": [],
   "source": [
    "# la funcion pose lee el archivo de odometría para extraer los valores x,y,theta y retornar una lista\n",
    "# compuesta por 3 listas: cada una de las listas almacena los valores de cada una de las variables x,y,theta\n",
    "\n",
    "def pose(data):\n",
    "    out = []\n",
    "    elements = [] \n",
    "    pose  = []\n",
    "    x     = []\n",
    "    y     = []\n",
    "    theta = []\n",
    "    raw_data_line = []\n",
    "\n",
    "    for line in data:                        # leo cada una de las lineas del objeto data resultante de la lectura del archivo\n",
    "        elements = line.strip().split('\\t')  # separo los elementos de cada linea. el separador es el caracter \\t\n",
    "        elements = list(map(float,elements)) # convierto la lista de str a float para poder trabajar con los elementos\n",
    "        raw_data_line.append(elements)       # lista que contiene cada una las listas que contienen los datos de cada linea del archivo. A esta lista despues la tengo que analizar y extraer los elementos que correspondan\n",
    "        \n",
    "    time_stamps = [e[0] for e in raw_data_line] # extraigo los timestamps de raw_data_line y los almaceno en time_stamps que es una lista\n",
    "    x = [e[1] for e in raw_data_line]           # idem que arriba pero para las coordenadas de x\n",
    "    y = [e[2] for e in raw_data_line]           # idem que arriba pero para las coordenadas de y \n",
    "    theta = [e[3] for e in raw_data_line]       # lo mismo pero para theta\n",
    "    out = [time_stamps,x,y,theta]\n",
    "    \n",
    "    \n",
    "    \n",
    "    return out                                  #retorna una lista con los datos diferenciados\n",
    "\n",
    "\n",
    "\n"
   ]
  },
  {
   "cell_type": "code",
   "execution_count": 16,
   "id": "67d341f6",
   "metadata": {},
   "outputs": [
    {
     "name": "stdout",
     "output_type": "stream",
     "text": [
      "8867 8867 8867 8867\n",
      "1626.739 0.39804 0.09996 0.54727\n"
     ]
    }
   ],
   "source": [
    "odom_timestamps,odom_x,odom_y,theta = pose(odom_data)\n",
    "\n",
    "print(len(odom_timestamps),len(odom_x),len(odom_y),len(theta))\n",
    "\n",
    "print(odom_timestamps[0],odom_x[0],odom_y[0],theta[0])"
   ]
  },
  {
   "cell_type": "code",
   "execution_count": 17,
   "id": "579cd93a",
   "metadata": {},
   "outputs": [],
   "source": [
    "def lidar(data):\n",
    "    out = []\n",
    "    values = []\n",
    "    x = []\n",
    "    y = []\n",
    "    raw_data_line = []\n",
    "\n",
    "    angles = np.linspace((-3/4)*np.pi, (3/4)*np.pi, 540)\n",
    "    for line in data:\n",
    "        elements = line.strip().split('\\t')\n",
    "        elements = list(map(float,elements))\n",
    "        raw_data_line.append(elements)\n",
    "        #values.append(raw_data_line[1:541])      \n",
    "    time_stamps =  [e[0] for e in raw_data_line]\n",
    "    values      =  [e[1:541] for e in raw_data_line] #values es una lista que contiene listas. Cada una de ellas posee las 540 mediciones del lidar\n",
    "    \n",
    "\n",
    "    return time_stamps,values,angles\n"
   ]
  },
  {
   "cell_type": "code",
   "execution_count": 18,
   "id": "9756c177",
   "metadata": {},
   "outputs": [
    {
     "name": "stdout",
     "output_type": "stream",
     "text": [
      "3546 3546 540\n"
     ]
    }
   ],
   "source": [
    "ts = []\n",
    "v  = []\n",
    "a  = []\n",
    "\n",
    "ts,v,a = lidar(scan_data)\n",
    "\n",
    "print(len(ts),len(v),len(a))"
   ]
  },
  {
   "cell_type": "code",
   "execution_count": 19,
   "id": "101b89dc",
   "metadata": {},
   "outputs": [],
   "source": [
    "def pol2rect(scan_values):   #recibe una lista de los modulos y angulos theta del robot. tengo un total de 540 mediciones por lo que cada lista tiene esa cant de elementos\n",
    "    x_coord = []\n",
    "    y_coord = []\n",
    "    rect_coords = []            #almacena las coordenadas x,y resultantes de la conversion en el formato [x,y] (lista de listas) \n",
    "    angles = np.linspace((-3/4)*np.pi, (3/4)*np.pi, 540)   \n",
    "\n",
    "    for v in scan_values:\n",
    "        cont = 0\n",
    "        for i in v:\n",
    "            x_coord.append(math.cos(angles[cont])*i)\n",
    "            y_coord.append(math.sin(angles[cont])*i)\n",
    "            cont=cont+1\n",
    "            \n",
    "    return x_coord,y_coord"
   ]
  },
  {
   "cell_type": "code",
   "execution_count": 20,
   "id": "b0431f9e",
   "metadata": {},
   "outputs": [],
   "source": [
    "x_scan,y_scan = pol2rect(v)"
   ]
  },
  {
   "cell_type": "code",
   "execution_count": 21,
   "id": "3d6da35e",
   "metadata": {},
   "outputs": [
    {
     "name": "stdout",
     "output_type": "stream",
     "text": [
      "1914840 1914840\n"
     ]
    }
   ],
   "source": [
    "print(len(x_scan),len(y_scan))"
   ]
  },
  {
   "cell_type": "code",
   "execution_count": 24,
   "id": "495ddad9",
   "metadata": {},
   "outputs": [
    {
     "ename": "SyntaxError",
     "evalue": "invalid syntax (3011858014.py, line 3)",
     "output_type": "error",
     "traceback": [
      "\u001b[0;36m  File \u001b[0;32m\"/tmp/ipykernel_929151/3011858014.py\"\u001b[0;36m, line \u001b[0;32m3\u001b[0m\n\u001b[0;31m    for j in range(,len(angle[:540]),,5):\u001b[0m\n\u001b[0m                   ^\u001b[0m\n\u001b[0;31mSyntaxError\u001b[0m\u001b[0;31m:\u001b[0m invalid syntax\n"
     ]
    }
   ],
   "source": [
    "def tr_base(scan_x,scan_y,angle):                            # angles en este caso es el tita del robot y no del lidar!!!\n",
    "    coords_c = []                                           # lista donde se almacenan las coordenadas de los vectores luego del cambio de base expresados en referencia a la base canonica\n",
    "    for j in range(0,len(angle[:540]),5):\n",
    "        print(angle) \n",
    "        for i in range(0,len(scan_x),5):\n",
    "            Pbc = np.array([[np.cos(angle[j] - np.pi / 2), np.cos(angle[j])],[np.sin(angle[j] - np.pi / 2), np.sin(angle[j])]])\n",
    "            Wb  = np.array([[scan_x[i]],[scan_y[i]]])\n",
    "            Wc  = Pbc@Wb                    # producto matricial entre la matriz de c de base y el vector expresado en la base B da como resultado el vector expr. en la base c\n",
    "            coords_c.append(Wc)                            # cada vector transformado se agrega a la lista de almacenamiento\n",
    "            print(Wc)\n",
    "    return coords_c                                    #devuelvo la lista con las coordenadas convertidas a la base canonica\n",
    "\n"
   ]
  },
  {
   "cell_type": "code",
   "execution_count": 23,
   "id": "13320091",
   "metadata": {},
   "outputs": [
    {
     "name": "stdout",
     "output_type": "stream",
     "text": [
      "[]\n"
     ]
    }
   ],
   "source": [
    "coords_c = []\n",
    "coords_c = tr_base(x_scan,y_scan,theta)\n",
    "\n"
   ]
  },
  {
   "cell_type": "code",
   "execution_count": null,
   "id": "34f39847",
   "metadata": {},
   "outputs": [],
   "source": []
  }
 ],
 "metadata": {
  "kernelspec": {
   "display_name": "Python 3 (ipykernel)",
   "language": "python",
   "name": "python3"
  },
  "language_info": {
   "codemirror_mode": {
    "name": "ipython",
    "version": 3
   },
   "file_extension": ".py",
   "mimetype": "text/x-python",
   "name": "python",
   "nbconvert_exporter": "python",
   "pygments_lexer": "ipython3",
   "version": "3.10.6"
  }
 },
 "nbformat": 4,
 "nbformat_minor": 5
}
