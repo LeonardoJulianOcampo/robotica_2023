{
 "cells": [
  {
   "cell_type": "code",
   "execution_count": null,
   "id": "96a07a74",
   "metadata": {},
   "outputs": [],
   "source": [
    "import matplotlib.pyplot as plt\n",
    "import numpy as np\n",
    "import math\n",
    "\n",
    "\n",
    "odom_data = open(\"odom.txt\",\"r\")\n",
    "scan_data = open(\"scan.txt\",\"r\")\n",
    "\n",
    "odom_timestamps = []\n",
    "odom_measures   = []\n",
    "odom_x = []\n",
    "odom_y = []\n",
    "odom_theta      = []\n",
    "\n",
    "scan_timestamps = []\n",
    "scan_values   = []\n",
    "scan_x = []\n",
    "scan_y = []\n",
    "scan_angles = []\n",
    "datos = []"
   ]
  },
  {
   "cell_type": "code",
   "execution_count": null,
   "id": "96335dcd",
   "metadata": {},
   "outputs": [],
   "source": []
  }
 ],
 "metadata": {
  "kernelspec": {
   "display_name": "Python 3 (ipykernel)",
   "language": "python",
   "name": "python3"
  },
  "language_info": {
   "codemirror_mode": {
    "name": "ipython",
    "version": 3
   },
   "file_extension": ".py",
   "mimetype": "text/x-python",
   "name": "python",
   "nbconvert_exporter": "python",
   "pygments_lexer": "ipython3",
   "version": "3.10.6"
  }
 },
 "nbformat": 4,
 "nbformat_minor": 5
}
