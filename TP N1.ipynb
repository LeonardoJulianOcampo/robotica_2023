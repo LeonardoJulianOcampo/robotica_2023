{
  "metadata": {
    "kernelspec": {
      "name": "python",
      "display_name": "Python (Pyodide)",
      "language": "python"
    },
    "language_info": {
      "codemirror_mode": {
        "name": "python",
        "version": 3
      },
      "file_extension": ".py",
      "mimetype": "text/x-python",
      "name": "python",
      "nbconvert_exporter": "python",
      "pygments_lexer": "ipython3",
      "version": "3.8"
    }
  },
  "nbformat_minor": 5,
  "nbformat": 4,
  "cells": [
    {
      "cell_type": "markdown",
      "source": "# TP N1 Modelo cinemático y odometrı́a en robot de tracción diferencial\n\n\n\n## Parte 1: Cálculos analíticos\n\nSe tiene como dato que la distancia entre ruedas del robot es de $b=0.450m$ y el radio de cada rueda es de $R_{rueda}=0.140m$. Además, cada rueda puede desarrollar una velocidad máxima de $2m/s$. \n\nTeniendo en cuenta las limitaciones impuestas arriba, se plantea primero la ecuación que relaciona el radio de la trayectoria, las velocidades angulares y las lineales:\n\n$$R_{trayectoria} = \\frac{v}{\\omega} \\quad(1)$$\n\nAdemás se cumple que:\n\n$$v = R (\\frac{\\omega_R+\\omega_L}{2}) \\quad; \\quad \\omega = R(\\frac{\\omega_R-\\omega_L}{b}) \\quad (2)$$\n\n\nReemplazando el par de ecuaciones $(2)$ en $(1)$ y reordenando se tiene que:\n\n\n$$v_R = v_L \\cdot \\frac{R_{trayectoria}+b/2}{R_{trayectoria}-b/2} \\quad (3)$$\n\n\nDe $(3)$ obtenemos $v_R$ fijando los valores $v_L = 1m/s$ y $R_{trayectoria} = 1m$, determinando que $v_R = 1.58m/s$.\n\n\nCon estos datos se calculan las velocidades angulares de cada rueda para luego determinar las velocidades del centro odométrico del robot:\n\n$$v_L = R \\omega_L \\rightarrow \\omega_L = 7.14rad/s$$\n$$v_R = R \\omega_R \\rightarrow \\omega_R = 11.28rad/s$$\n\n\nFinalmente, la velocidad lineal del centro odométrico es determinada con la segunda ecuación del par (2):\n\n$$ \\omega = R(\\frac{\\omega_R-\\omega_L}{b}) = 0.140m \\cdot \\frac{11.28 m/s - 7.14 m/s}{0.45m} = 1.29 rad/s$$\n\n\n\n",
      "metadata": {},
      "id": "29447c62"
    },
    {
      "cell_type": "markdown",
      "source": "## Parte 2: Simulación del robot RoMAA en Gazebo",
      "metadata": {},
      "id": "bcc8a60f"
    },
    {
      "cell_type": "markdown",
      "source": "#### 1.Generar un registro (log) de odometría y velocidad del robot con el robot en movimiento mediante teleoperación por teclado. Para ello ejecutar nuevamente la simulación y utilizar el script dump_odom.py. \nEl script generó el log *log2.txt*, el cual contiene 6 columnas:\n    1. Tiempo\n    2. Coordenada x\n    3. Coordenada y\n    4. Orientacion en rad/s\n    5. Velocidad lineal en m/s\n    6. Velocidad angular en m/s\n    \n",
      "metadata": {},
      "id": "2b01debd-70b1-4dc5-a333-fe0f144c538b"
    },
    {
      "cell_type": "raw",
      "source": "65.161\t-0.006057037148917491\t-0.006908233294647167\t-0.00197748107190324\t-4.810000558138568e-05\t-0.0004836449386830755\n65.201\t-0.006058586893847237\t-0.0069072728601641585\t-0.001979842071835242\t3.168451956376273e-05\t0.0014337853655501714\n65.241\t-0.006060370593601608\t-0.006908718634206196\t-0.0019614487722600282\t-6.401102316500207e-05\t-0.0011878282934810888\n65.281\t-0.0060618962124859566\t-0.006909181626544868\t-0.001955609894163942\t-5.89330195716685e-05\t0.002542448943296857\n65.321\t-0.006063929055495548\t-0.006909498578186882\t-0.0019458128489266702\t-9.513941165484178e-05\t-0.00035488634370356344\n65.361\t-0.0060654369030842675\t-0.0069111737656546365\t-0.0019329918352603847\t-5.8026739167264766e-05\t0.002251742517614298\n65.401\t-0.006067660822134932\t-0.006910230491531507\t-0.0019342864837686479\t-8.10768513350361e-05\t-0.0020644039214609802\n65.44\t-0.00606903315949231\t-0.006912602667409045\t-0.001911019858356295\t-5.7850587895064e-05\t0.0009457116407288761\n65.481\t-0.006070872334347624\t-0.006911411198736413\t-0.001916959504121289\t0.00011214832270804587\t-0.0003689119265963466\n65.524\t-0.006072425037938978\t-0.006913584743635599\t-0.001895612643636836\t-5.77932962172292e-05\t-0.0009676455217378318\n65.568\t-0.006073963783126704\t-0.006912702828237407\t-0.0018973374052027013\t-8.379813411274331e-06\t0.0017032845828706144\n65.612\t-0.006075969078765064\t-0.006913992147739294\t-0.001879562128684887\t-7.654826825488072e-05\t-0.0012302434422667575\n65.656\t-0.006077550119615097\t-0.006915386684035649\t-0.001868133380872568\t-5.205538309629955e-05\t0.0021598982319992674\n65.7\t-0.006079653559995082\t-0.006914588230930041\t-0.0018653226743585358\t-7.320319575075738e-05\t-0.00195274671246848\n65.744\t-0.0060810220587232955\t-0.006917194549387056\t-0.0018474714258649527\t-3.729702259821787e-05\t0.00043199203760416004\n65.788\t-0.006083052058485444\t-0.006915966749592645\t-0.001851846624932725\t7.426789565836094e-05\t-0.001166978101764843\n65.832\t-0.006084459290714564\t-0.0069180898570522\t-0.0018294552064813572\t-6.990619021043893e-05\t0.00042543453058532734",
      "metadata": {
        "tags": []
      },
      "id": "18402ac5-3dd9-4651-8c8f-99369bb5ed3b"
    },
    {
      "cell_type": "markdown",
      "source": "#### 2. Escribir un script en Python que cargue los datos del archivo de log y genere gráficos de: i) el camino seguido por el robot, ii) la trayectoria (pose respecto al tiempo) y iii) la velocidad del robot respecto al tiempo.\n\nPara ello, se escribió un script de Python llamado *log-py.py*:",
      "metadata": {},
      "id": "6b091387-4180-4267-8b67-a64c9c631ca8"
    },
    {
      "cell_type": "code",
      "source": "import matplotlib.pyplot as plt \nimport numpy as np\n\n\ndata = [] #lista donde se van guardar las diferentes variables \n#Lee archivo\nwith open('/home/mateo/simulation_ws/src/circle.txt', 'r') as file:\n    for line in file: #bucle que recorre todas las filas\n        line = line.strip().split() #divide las columnas\n        time = float(line[0]) #primera columna\n        x = float(line[1]) #segunda columna y asi sucesivamente\n        y = float(line[2]) \n        orientation = float(line[3])\n        linear = float(line[4])\n        angular = float(line[5])\n        data.append((time, x, y, orientation, linear, angular)) #a la misma posicion de la lista se guardan las 6 variables dependientes del tiempo\n",
      "metadata": {
        "tags": [],
        "collapsed": true,
        "jupyter": {
          "outputs_hidden": true
        },
        "trusted": true
      },
      "execution_count": 4,
      "outputs": [
        {
          "ename": "<class 'FileNotFoundError'>",
          "evalue": "[Errno 44] No such file or directory: '/home/mateo/simulation_ws/src/circle.txt'",
          "traceback": [
            "\u001b[0;31m---------------------------------------------------------------------------\u001b[0m",
            "\u001b[0;31mFileNotFoundError\u001b[0m                         Traceback (most recent call last)",
            "Cell \u001b[0;32mIn[4], line 7\u001b[0m\n\u001b[1;32m      5\u001b[0m data \u001b[38;5;241m=\u001b[39m []\n\u001b[1;32m      6\u001b[0m \u001b[38;5;66;03m#Lee archivo\u001b[39;00m\n\u001b[0;32m----> 7\u001b[0m \u001b[38;5;28;01mwith\u001b[39;00m \u001b[38;5;28;43mopen\u001b[39;49m\u001b[43m(\u001b[49m\u001b[38;5;124;43m'\u001b[39;49m\u001b[38;5;124;43m/home/mateo/simulation_ws/src/circle.txt\u001b[39;49m\u001b[38;5;124;43m'\u001b[39;49m\u001b[43m,\u001b[49m\u001b[43m \u001b[49m\u001b[38;5;124;43m'\u001b[39;49m\u001b[38;5;124;43mr\u001b[39;49m\u001b[38;5;124;43m'\u001b[39;49m\u001b[43m)\u001b[49m \u001b[38;5;28;01mas\u001b[39;00m file:\n\u001b[1;32m      8\u001b[0m     \u001b[38;5;28;01mfor\u001b[39;00m line \u001b[38;5;129;01min\u001b[39;00m file:\n\u001b[1;32m      9\u001b[0m         line \u001b[38;5;241m=\u001b[39m line\u001b[38;5;241m.\u001b[39mstrip()\u001b[38;5;241m.\u001b[39msplit()\n",
            "File \u001b[0;32m/lib/python3.11/site-packages/IPython/core/interactiveshell.py:284\u001b[0m, in \u001b[0;36m_modified_open\u001b[0;34m(file, *args, **kwargs)\u001b[0m\n\u001b[1;32m    277\u001b[0m \u001b[38;5;28;01mif\u001b[39;00m file \u001b[38;5;129;01min\u001b[39;00m {\u001b[38;5;241m0\u001b[39m, \u001b[38;5;241m1\u001b[39m, \u001b[38;5;241m2\u001b[39m}:\n\u001b[1;32m    278\u001b[0m     \u001b[38;5;28;01mraise\u001b[39;00m \u001b[38;5;167;01mValueError\u001b[39;00m(\n\u001b[1;32m    279\u001b[0m         \u001b[38;5;124mf\u001b[39m\u001b[38;5;124m\"\u001b[39m\u001b[38;5;124mIPython won\u001b[39m\u001b[38;5;124m'\u001b[39m\u001b[38;5;124mt let you open fd=\u001b[39m\u001b[38;5;132;01m{\u001b[39;00mfile\u001b[38;5;132;01m}\u001b[39;00m\u001b[38;5;124m by default \u001b[39m\u001b[38;5;124m\"\u001b[39m\n\u001b[1;32m    280\u001b[0m         \u001b[38;5;124m\"\u001b[39m\u001b[38;5;124mas it is likely to crash IPython. If you know what you are doing, \u001b[39m\u001b[38;5;124m\"\u001b[39m\n\u001b[1;32m    281\u001b[0m         \u001b[38;5;124m\"\u001b[39m\u001b[38;5;124myou can use builtins\u001b[39m\u001b[38;5;124m'\u001b[39m\u001b[38;5;124m open.\u001b[39m\u001b[38;5;124m\"\u001b[39m\n\u001b[1;32m    282\u001b[0m     )\n\u001b[0;32m--> 284\u001b[0m \u001b[38;5;28;01mreturn\u001b[39;00m \u001b[43mio_open\u001b[49m\u001b[43m(\u001b[49m\u001b[43mfile\u001b[49m\u001b[43m,\u001b[49m\u001b[43m \u001b[49m\u001b[38;5;241;43m*\u001b[39;49m\u001b[43margs\u001b[49m\u001b[43m,\u001b[49m\u001b[43m \u001b[49m\u001b[38;5;241;43m*\u001b[39;49m\u001b[38;5;241;43m*\u001b[39;49m\u001b[43mkwargs\u001b[49m\u001b[43m)\u001b[49m\n",
            "\u001b[0;31mFileNotFoundError\u001b[0m: [Errno 44] No such file or directory: '/home/mateo/simulation_ws/src/circle.txt'"
          ],
          "output_type": "error"
        }
      ],
      "id": "8f04d06d-a2e9-4455-b0e8-573c0d79930b"
    },
    {
      "cell_type": "markdown",
      "source": "Luego recorre la lista *data* a medida que corre el script:",
      "metadata": {},
      "id": "986f1d67-066f-4af2-a88a-2e1a0ad5ed9c"
    },
    {
      "cell_type": "code",
      "source": "time_values = [item[0] for item in data]\nx_values    = [item[1] for item in data]\ny_values    = [item[2] for item in data]\nor_values   = [item[3] for item in data]\nlin_values  = [item[4] for item in data]\nang_values  = [item[5] for item in data]\n",
      "metadata": {
        "tags": []
      },
      "execution_count": null,
      "outputs": [],
      "id": "7bb34563-b065-44df-b71f-3ca03bc5913f"
    },
    {
      "cell_type": "markdown",
      "source": "Finalmente va mostrando los diferentes gráficos:",
      "metadata": {
        "tags": []
      },
      "id": "ee0e343b-0243-41d5-9d56-04fb1622b588"
    },
    {
      "cell_type": "code",
      "source": "axs[0].scatter(x_values, y_values) #toma los valores x e y\naxs[0].set_xlabel('X') #etiqueta los ejes \naxs[0].set_ylabel('Y')\naxs[0].set_title('Camino') #titulo del gráfico\naxs[0].set_aspect('equal') #setea el tamaño en un cuadrado\n\n\naxs[1].plot(time_values, x_values, label='Posición X') \naxs[1].plot(time_values, y_values, label='Posición Y') \naxs[1].plot(time_values, or_values, label='Orientación')\naxs[1].set_xlabel('Tiempo')\naxs[1].set_ylabel('Valor')\naxs[1].set_title('Pose del Robot con respecto al Tiempo')\naxs[1].legend()\n\n\naxs[2].plot(time_values, lin_values, label='Velocidad Lineal')\naxs[2].set_xlabel('Tiempo')\naxs[2].set_ylabel('Velocidad Lineal')\naxs[2].set_title('Velocidad Lineal respecto al Tiempo')\naxs[2].legend()\n\naxs[3].plot(time_values, ang_values, label='Velocidad Angular')\naxs[3].set_xlabel('Tiempo')\naxs[3].set_ylabel('Velocidad Angular')\naxs[3].set_title('Velocidad Angular respecto al Tiempo')\naxs[3].legend()\n\nplt.tight_layout()\nplt.show()\n",
      "metadata": {},
      "execution_count": null,
      "outputs": [],
      "id": "69ed1d03-8069-4f72-9dab-b30c7e768275"
    },
    {
      "cell_type": "markdown",
      "source": "#### 3. Obtener otro registro de datos para un camino circular del robot y gráficar el camino y la trayectoria. Marcar tres puntos cualquiera en el gráfico del camino del robot y sus correspondientes puntos en la trayectoria. Elegir puntos que no se correspondan con el inicio o el final del camino.\nComo en el primer punto, se realizó el log con *dump-odom.py*, esta vez guardandolo en un archivo llamado *circle.txt*, obteniendo asi un camino circular.\nPara el ploteo del camino y la generación de puntos sobre el gráfico, se realizó otro script llamado *points_marker.py*.\n",
      "metadata": {},
      "id": "0abd07d4-6df8-4699-b4cf-3e801de4a0fc"
    },
    {
      "cell_type": "markdown",
      "source": "Se procede de la misma manera que en el script anterior, pero se generarán 3 puntos para guardar las diferentes variables:",
      "metadata": {},
      "id": "7b8b8224-1cf8-457b-b3d8-8388a83c4560"
    },
    {
      "cell_type": "code",
      "source": "import matplotlib.pyplot as plt\nimport numpy as np\nimport random\n\ndata = []\np1 = []\np2 = []\np3 = []\n\n#Lee archivo\nwith open('/home/mateo/simulation_ws/src/circle.txt', 'r') as file:\n    for line in file:\n        line = line.strip().split()\n        time = float(line[0])\n        x = float(line[1]) \n        y = float(line[2]) \n        orientation = float(line[3])\n        linear = float(line[4])\n        angular = float(line[5])\n        data.append((time, x, y, orientation, linear, angular))  \n\ndatalen = len(data)\n\ntime_values = [item[0] for item in data]\nx_values    = [item[1] for item in data]\ny_values    = [item[2] for item in data]\nor_values   = [item[3] for item in data]\nlin_values  = [item[4] for item in data]\nang_values  = [item[5] for item in data]\n",
      "metadata": {},
      "execution_count": null,
      "outputs": [],
      "id": "49006c5b-efa5-4816-8c1b-2b4fd885441c"
    },
    {
      "cell_type": "markdown",
      "source": "Luego, se generan 3 puntos aleatorios sobre el camino, y se asigna cada variable para luego plotearla:",
      "metadata": {},
      "id": "b1d5b80a-f1da-4587-ac69-a19f66de98ab"
    },
    {
      "cell_type": "code",
      "source": "fig, axs = plt.subplots(2, 1, figsize=(10, 15))\n\np1 = data[random.randint(1, datalen-1)]\np2 = data[random.randint(1, datalen-1)]\np3 = data[random.randint(1, datalen-1)]\n\np1_time = p1[0]\np1_x = p1[1]\np1_y = p1[2]\n\np2_time = p2[0]\np2_x = p2[1]\np2_y = p2[2]\n\np3_time = p3[0]\np3_x = p3[1]\np3_y = p3[2]\n\n\n",
      "metadata": {},
      "execution_count": null,
      "outputs": [],
      "id": "ba5c91c5-9483-4c85-9b8e-bf478a55d94d"
    },
    {
      "cell_type": "markdown",
      "source": "Finalmente se procede de la misma manera graficando camino y puntos:",
      "metadata": {},
      "id": "9d5473c5-5d6f-4ca6-bd64-52e32745c5ee"
    },
    {
      "cell_type": "code",
      "source": "axs[0].scatter(x_values, y_values)\naxs[0].set_xlabel('X')\naxs[0].set_ylabel('Y')\naxs[0].scatter(p1_x, p1_y, color = 'red')\naxs[0].scatter(p2_x, p2_y, color = 'green')\naxs[0].scatter(p3_x, p3_y, color = 'yellow')\naxs[0].set_title('Camino')\naxs[0].set_aspect('equal')\n\n\naxs[1].plot(time_values, x_values, label='Posición X')\naxs[1].plot(time_values, y_values, label='Posición Y')\naxs[1].plot(time_values, or_values, label='Orientación')\naxs[1].scatter(p1_time, p1_x, color = 'red')\naxs[1].scatter(p2_time, p2_x, color = 'green')\naxs[1].scatter(p3_time, p3_x, color = 'yellow')\naxs[1].scatter(p1_time, p1_y, color = 'red')\naxs[1].scatter(p2_time, p2_y, color = 'green')\naxs[1].scatter(p3_time, p3_y, color = 'yellow')\naxs[1].set_xlabel('Tiempo')\naxs[1].set_ylabel('Valor')\naxs[1].set_title('Pose del Robot con respecto al Tiempo')\naxs[1].legend()\n\nplt.tight_layout()\nplt.show()\n",
      "metadata": {},
      "execution_count": null,
      "outputs": [],
      "id": "6b4583ab-8ce9-4ddb-8a54-b5526f26eca4"
    },
    {
      "cell_type": "markdown",
      "source": "#### 4. En base a los gráficos anteriores:\n#### ¿Cuáles son los rangos de valores de las coordenadas x e y y por qué?\n#### ¿Cuál es el rango de valores de la orientación del robot y por qué?\nEn primera instancia, para el camino cuadrado, los rangos de valores serán acotados al manejo que le demos nosotros, debido a que se controlaba a través de publicaciones de un mensaje de tipo Twist, el cual estaba procesado por las flechas del teclado. En el camino circular, el rango de las coordenadas estará delimitado por la velocidad angular del centro odométrico del robot. Por lo tanto, no podrá salir del radio que establece esa velocidad angular.\nEn segundo lugar, la orientacion del robot para el camino cuadrado cambiará de 90° en 90°. Para el camino circular, el irá variando progresivamente de $-\\pi$ a $\\pi$, como podemos ver en el gráfico de orientación. La orientación estará acotada a esos valores para ambos casos.",
      "metadata": {},
      "id": "9120ce73-fa9f-40f3-9e68-200cb491a1c2"
    },
    {
      "cell_type": "markdown",
      "source": "#### 5. Obtener diferentes registros y gráficos para caminos circulares con diferentes valores (positivos y negativos) de velocidades lineales y angulares (utilizar todas las combinaciones de signos posibles). Indicar en los gráficos el sentido de avance del robot.\n\nPara ello se escribió otro script de python llamado *circle_paths.py*, el cual tendrá cargada la ruta de acceso de todos los logs generados, y a partir del numero que le ingresemos, mostrará el camino requerido:",
      "metadata": {},
      "id": "9e5f0151-67dc-4ac7-ab01-6ff9ad920273"
    },
    {
      "cell_type": "code",
      "source": "mport matplotlib.pyplot as plt\n\n# Leer el archivo generado por dump_odom.py y extraer los valores\ndata = []\ncwPath1 = 'cw_0.5linear_0.49angular.txt'\ncwPath2 = 'cw_0.5linear_1.0angular.txt'\ncwPath3 = 'cw_0.5linear_2.14angular.txt'\ncwPath4 = 'cw_0.15linear_1.0angular.txt'\ncwPath5 = 'cw_0.23linear_0.49angular.txt'\ncwPath6 = 'cw_1.07linear_1.0angular.txt'\ncwPath7 = 'cw_1.52linear_2.04angular.txt'\n\nccwPath8 = 'ccw_0.5linear_1.0angular.txt'\nccwPath9 = 'ccw_0.15linear_1.0angular.txt'\nccwPath10 = 'ccw_1.07linear_1.0angular.txt'\n\npathList = [cwPath1, cwPath2, cwPath3, cwPath4, cwPath5, cwPath6, cwPath7, ccwPath8, ccwPath9, ccwPath10]\n\npathNumber = int(input(\"Para un camino horario, ingresar un numero del 0 al 6, para un camino antihorario ingresar del 7 al 9:\"))\n\ngetPath = pathList[pathNumber]\nwith open(getPath, 'r') as file:\n    for line in file:\n        line = line.strip().split() \n        x = float(line[1]) \n        y = float(line[2])  \n        orientation = float(line[3]) \n        data.append((x, y, orientation)) \n\nx_values = [item[0] for item in data]\ny_values = [item[1] for item in data]\n\nfig, ax = plt.subplots()\n\n\nax.plot(x_values, y_values, '-o')\n\n\nif(pathNumber <= 6):\n    sentido = 'Horario'\nelse:\n    sentido = 'Antihorario'\nax.set_aspect('equal')\nax.set_xlabel('Posición en X')\nax.set_ylabel('Posición en Y')\nax.set_title('Camino Recorrido ' + sentido)\n\n\nplt.show()",
      "metadata": {},
      "execution_count": null,
      "outputs": [],
      "id": "1edfef09-44e3-4bd4-b494-8ef0cad69f1b"
    },
    {
      "cell_type": "markdown",
      "source": "#### 6. Describir cuál sería la secuencia de comandos de velocidad a aplicar al robot para seguir uno de los caminos mostrado a continuación (elegir sólo uno).\n![hola](notebooks/square_path1.png)",
      "metadata": {},
      "id": "303a9f0a-b182-42f3-9540-6db654f37de7"
    },
    {
      "cell_type": "markdown",
      "source": "Para ello necesitaremos un algoritmo que se repita 4 veces, debido a que tiene 4 lados del cuadrado para recorrer y un giro de 90° a realizar. Se supone que se empezará por el vertice inferior izquierdo, y se recorrerá el camino en forma antihorario.",
      "metadata": {},
      "id": "06f70c35-d841-4841-878f-d5f1894cd904"
    },
    {
      "cell_type": "markdown",
      "source": "1. Se realiza una publicación de tipo Twist para recorrer el primer lado, estableciendo la velocidad lineal en $1 m/s$ queriendo recorrerlo en 2 segundos:",
      "metadata": {},
      "id": "cfafa580-5da0-4529-ac30-1be9cf29690d"
    },
    {
      "cell_type": "code",
      "source": "rostopic pub /cmd_vel geometry_msgs/msg/Twist \"{linear: {x: 1.0, y: 0.0, z: 0.0}, angular: {x: 0.0, y: 0.0, z: 0.0}}\"",
      "metadata": {
        "collapsed": true,
        "jupyter": {
          "outputs_hidden": true
        },
        "tags": [],
        "trusted": true
      },
      "execution_count": 1,
      "outputs": [
        {
          "ename": "<class 'SyntaxError'>",
          "evalue": "invalid syntax (<ipython-input-1-7d466c2f4076>, line 1)",
          "traceback": [
            "\u001b[0;36m  Cell \u001b[0;32mIn[1], line 1\u001b[0;36m\u001b[0m\n\u001b[0;31m    rostopic pub /cmd_vel geometry_msgs/msg/Twist \"{linear: {x: 1.0, y: 0.0, z: 0.0}, angular: {x: 0.0, y: 0.0, z: 0.0}}\"\u001b[0m\n\u001b[0m             ^\u001b[0m\n\u001b[0;31mSyntaxError\u001b[0m\u001b[0;31m:\u001b[0m invalid syntax\n"
          ],
          "output_type": "error"
        }
      ],
      "id": "acc13eaa-4d72-4642-b9b2-388e83892efb"
    },
    {
      "cell_type": "markdown",
      "source": "2. Luego se deberá para el robot en el vertice inferior derecho, por lo tanto:",
      "metadata": {},
      "id": "5dd1063e-3530-4381-b655-c6cf9d28b35b"
    },
    {
      "cell_type": "code",
      "source": "rostopic pub /cmd_vel geometry_msgs/msg/Twist \"{linear: {x: 0.0, y: 0.0, z: 0.0}, angular: {x: 0.0, y: 0.0, z: 0.0}}\"",
      "metadata": {
        "collapsed": true,
        "jupyter": {
          "outputs_hidden": true
        },
        "tags": [],
        "trusted": true
      },
      "execution_count": 2,
      "outputs": [
        {
          "ename": "<class 'SyntaxError'>",
          "evalue": "invalid syntax (<ipython-input-2-1fdc4ee2a363>, line 1)",
          "traceback": [
            "\u001b[0;36m  Cell \u001b[0;32mIn[2], line 1\u001b[0;36m\u001b[0m\n\u001b[0;31m    rostopic pub /cmd_vel geometry_msgs/msg/Twist \"{linear: {x: 0.0, y: 0.0, z: 0.0}, angular: {x: 0.0, y: 0.0, z: 0.0}}\"\u001b[0m\n\u001b[0m             ^\u001b[0m\n\u001b[0;31mSyntaxError\u001b[0m\u001b[0;31m:\u001b[0m invalid syntax\n"
          ],
          "output_type": "error"
        }
      ],
      "id": "78445afb-0b82-4b18-8529-c314d119d612"
    },
    {
      "cell_type": "markdown",
      "source": "3. Se realiza el giro sobre si mismo, por lo tanto se establecerá $z=0.785 rad/s$ para realizar el giro de 90° en 2 segundos:",
      "metadata": {},
      "id": "55fb6620-991b-4a18-9f9c-5e57be3ff23a"
    },
    {
      "cell_type": "code",
      "source": "rostopic pub /cmd_vel geometry_msgs/msg/Twist \"{linear: {x: 1.0, y: 0.0, z: 0.0}, angular: {x: 0.785, y: 0.0, z: 0.0}}\"",
      "metadata": {},
      "execution_count": null,
      "outputs": [],
      "id": "0af5b309-8ecd-4a4c-bbf8-8abb37ee2f86"
    },
    {
      "cell_type": "markdown",
      "source": "4. Como en el punto 2, se para el robot:",
      "metadata": {},
      "id": "5dfbe40e-d390-49f9-a91b-4eeedb631d1f"
    },
    {
      "cell_type": "code",
      "source": "rostopic pub /cmd_vel geometry_msgs/msg/Twist \"{linear: {x: 0.0, y: 0.0, z: 0.0}, angular: {x: 0.0, y: 0.0, z: 0.0}}\"",
      "metadata": {},
      "execution_count": null,
      "outputs": [],
      "id": "a20c578d-124e-4e75-92fe-39352d79edb8"
    },
    {
      "cell_type": "markdown",
      "source": "Este algoritmo se repetirá 4 veces para recorrer el camino de inicio a fin.",
      "metadata": {},
      "id": "04c04738-4456-43b6-8423-873352994c70"
    },
    {
      "cell_type": "markdown",
      "source": "#### 7. Completar el script *square_path.py* para que el robot el robot RoMAA-II simulado en Gazebo pueda ejecutar el camino cuadrado mostrado en el punto anterior.",
      "metadata": {},
      "id": "1028048c-3289-4038-b7ee-3c5144dfda46"
    },
    {
      "cell_type": "markdown",
      "source": "Para realizar este punto se tomó el algoritmo del punto 6 y se pasó a Python completando el script donde hacía falta, el cual quedaría:",
      "metadata": {},
      "id": "ad87cd69-1d58-4014-828a-792138d7de8c"
    },
    {
      "cell_type": "code",
      "source": "       # Completar el código\n        vel = Twist()\n        count = 0\n        while(count < 4):\n            vel.linear.x = 1.0 #setea velocidad lineal en 1 m/s\n            vel.angular.z = 0.0 #velocidad angular en 0 debido a que recorre un tramo derecho\n            self.pub.publish(vel) #publicación del mensaje tipo Twist en el tópico /cmd_vel\n            rospy.sleep(2.0) #delay de 2 segundos que establece el tiempo de recorrido\n\n            vel.linear.x = 0.0 #seteo ambas velocidades en 0 para realizar el giro de 90°\n            vel.angular.z = 0.0 \n            self.pub.publish(vel)\n            rospy.sleep(0.5)\n\n            vel.linear.x = 0.0 \n            vel.angular.z = 0.785 # en rad/seg, establezco el giro de 90° en 2 segundos \n            self.pub.publish(vel)\n            rospy.sleep(2)\n\n            vel.linear.x = 0.0 \n            vel.angular.z = 0.0 # en rad/seg, establezco el giro de 90° en 2 segundos \n            self.pub.publish(vel)\n            rospy.sleep(0.5)\n            count+1\n\n        # FIN: fija velocidad 0",
      "metadata": {
        "jupyter": {
          "source_hidden": true
        },
        "tags": []
      },
      "execution_count": null,
      "outputs": [],
      "id": "d2de0d60-bd8a-4e95-8176-8a89c602e014"
    },
    {
      "cell_type": "markdown",
      "source": "## Parte 3: Práctica con robot EduRoMAA\n\n\n1. Para realizar el movimiento pedido se realizaron las funciones `stopped`, `moveForward` y `moveBackward`:\n\n\n\n```c++\n    void moveForward(unsigned long ms){\n\tPWM = STOP;\n\n\twhile(PWM <= 254){\n\t\tanalogWrite(MOTOR_DER, PWM);\n\t\tanalogWrite(MOTOR_IZQ, PWM);\n\t\tdelay((unsigned long)((ms/4)/127));\n\t\tPWM = PWM + 1;\n\t}\t\n\n\tdelay((unsigned long)(((ms/2))));\n\t\n\n\twhile(PWM >= 128){\n\t\tanalogWrite(MOTOR_DER, PWM);\n\t\tanalogWrite(MOTOR_IZQ, PWM);\n\t\tdelay((unsigned long)(((ms/4)/127)));\n\t\tPWM = PWM - 1;\n\t}\n}\n```\n\n\n\n\n``` c++ \n    void moveBackward(unsigned long ms){\n\tPWM = STOP;\n\n\twhile(PWM >= 1){\n\t\tanalogWrite(MOTOR_DER, PWM);\n\t\tanalogWrite(MOTOR_IZQ, PWM);\n\t\tdelay((unsigned long)((ms/4)/127));\n\t\tPWM = PWM - 1;\n\t}\n\tPWM = 0;\n  analogWrite(MOTOR_DER, PWM);\n  analogWrite(MOTOR_IZQ, PWM);  \n\tdelay((unsigned long)((ms/2)));\n\t\n\twhile(PWM <= 125){\n\t\tanalogWrite(MOTOR_DER,PWM);\n\t\tanalogWrite(MOTOR_IZQ,PWM);\n\t\tdelay((unsigned long)((ms/4)/127));\n\t\tPWM = PWM +1;\n\t}\n}\n```\n\n\n\n\n```c++\n   void halt(unsigned long ms){\n\tanalogWrite(MOTOR_DER, STOP);\n\tanalogWrite(MOTOR_IZQ, STOP);\n\tdelay(ms);\n} \n```",
      "metadata": {
        "tags": []
      },
      "id": "108ece19"
    },
    {
      "cell_type": "markdown",
      "source": "El bucle principal del programa llama a las funciones anteriores de la siguiente forma:",
      "metadata": {},
      "id": "9a28384a"
    },
    {
      "cell_type": "markdown",
      "source": "```c++\n    void loop(){\n        halt(2000);\n        moveForward(2000);\n        halt(2000);\n        moveBackward(2000);\n    }\n\n```",
      "metadata": {},
      "id": "b51fdbf4"
    },
    {
      "cell_type": "markdown",
      "source": "2. Para que el motor realice una trayectoria cuadrada, se agregó la función que sigue para realizar giros sobre el eje del motor:",
      "metadata": {},
      "id": "7cb89420"
    },
    {
      "cell_type": "markdown",
      "source": "```c++\n   void twist(int ms){\n\t\n\tPWM1 = 128;\n    PWM2 = 126;\n  \n\twhile(PWM1 <= 254){\n\n    if(PWM1 == 128){\n      PWM1 = PWM1 + 1;\n      PWM2 = 126;\n      }\n    else{\n      PWM1 = PWM1 + 1;\n      PWM2 = ~PWM1;\n      }\n\t\tanalogWrite(MOTOR_DER,  PWM1);\n\t\tanalogWrite(MOTOR_IZQ,  PWM2);\n\t\tdelay((unsigned long)((ms/4)/127));\n\t}\t\n\n\n\tPWM1 =  255;\n  PWM2 = ~PWM1;\n\tanalogWrite(MOTOR_DER,  PWM1);\n\tanalogWrite(MOTOR_IZQ,  PWM2);\n\tdelay((unsigned long)(((ms/2)/127)));\n\t\n\n\twhile(PWM1 >= 128){\n\t\tPWM1 =  PWM1 - 1;\n    PWM2 = ~PWM1;\n    analogWrite(MOTOR_DER,  PWM1);\n    analogWrite(MOTOR_IZQ,  PWM2);\n    delay((unsigned long)(((ms/4)/127)));\n\t}\n\n}  \n```",
      "metadata": {},
      "id": "e52e961a"
    },
    {
      "cell_type": "markdown",
      "source": "Luego, el bucle del programa se implementa de la siguiente manera:",
      "metadata": {},
      "id": "0991950a"
    },
    {
      "cell_type": "markdown",
      "source": "```c++\nvoid loop(){\n\n  moveForward(1000);\n  halt(2500);\n  \n  twist(1000);\n  halt(500);\n  \n  moveForward(1000);\n  halt(2500);\n  \n  twist(1000);\n  halt(2500);\n  \n  moveForward(1000);\n  halt(2500);  \n  \n  twist(1000);\n  halt(2500);\n\n  moveForward(1000);\n  halt(2500);\n\n}\n```",
      "metadata": {},
      "id": "18c627ad"
    },
    {
      "cell_type": "markdown",
      "source": "3. ",
      "metadata": {},
      "id": "aa2cf4a7"
    },
    {
      "cell_type": "markdown",
      "source": "    1. En este caso los valores de las acciones de control usados son \n    2. Se puede observar que es muy dificil que el robot siga una trayectoria predecible. Al realizarse los movimientos sin ningún tipo de información como realimentación para determinar su posición y orientación los movimientos carecen de precisión\n    3. No. El robot luego de varios ciclos no vuelve al punto de partida\n    4. Aproximadamente pero no de forma exacta",
      "metadata": {},
      "id": "795f57bb"
    },
    {
      "cell_type": "markdown",
      "source": "4.  ",
      "metadata": {},
      "id": "a5cf0ae3"
    }
  ]
}