{
 "cells": [
  {
   "cell_type": "markdown",
   "id": "29447c62",
   "metadata": {},
   "source": [
    "# TP N1 Modelo cinemático y odometrı́a en robot de tracción diferencial\n",
    "\n",
    "\n",
    "\n",
    "## Parte 1: Cálculos analíticos\n",
    "\n",
    "Se tiene como dato que la distancia entre ruedas del robot es de $b=0.450m$ y el radio de cada rueda es de $R_{rueda}=0.140m$. Además, cada rueda puede desarrollar una velocidad máxima de $2m/s$. \n",
    "\n",
    "Teniendo en cuenta las limitaciones impuestas arriba, se plantea primero la ecuación que relaciona el radio de la trayectoria, las velocidades angulares y las lineales:\n",
    "\n",
    "$$R_{trayectoria} = \\frac{v}{\\omega} \\quad(1)$$\n",
    "\n",
    "Además se cumple que:\n",
    "\n",
    "$$v = R (\\frac{\\omega_R+\\omega_L}{2}) \\quad; \\quad \\omega = R(\\frac{\\omega_R-\\omega_L}{b}) \\quad (2)$$\n",
    "\n",
    "\n",
    "Reemplazando el par de ecuaciones $(2)$ en $(1)$ y reordenando se tiene que:\n",
    "\n",
    "\n",
    "$$v_R = v_L \\cdot \\frac{R_{trayectoria}+b/2}{R_{trayectoria}-b/2} \\quad (3)$$\n",
    "\n",
    "\n",
    "De $(3)$ obtenemos $v_R$ fijando los valores $v_L = 1m/s$ y $R_{trayectoria} = 1m$, determinando que $v_R = 1.58m/s$.\n",
    "\n",
    "\n",
    "Con estos datos se calculan las velocidades angulares de cada rueda para luego determinar las velocidades del centro odométrico del robot:\n",
    "\n",
    "$$v_L = R \\omega_L \\rightarrow \\omega_L = 7.14rad/s$$\n",
    "$$v_R = R \\omega_R \\rightarrow \\omega_R = 11.28rad/s$$\n",
    "\n",
    "\n",
    "Finalmente, la velocidad lineal del centro odométrico es determinada con la segunda ecuación del par (2):\n",
    "\n",
    "$$ \\omega = R(\\frac{\\omega_R-\\omega_L}{b}) = 0.140m \\cdot \\frac{11.28 m/s - 7.14 m/s}{0.45m} = 1.29 rad/s$$\n",
    "\n",
    "\n",
    "\n"
   ]
  },
  {
   "cell_type": "markdown",
   "id": "bcc8a60f",
   "metadata": {},
   "source": [
    "## Parte 2:"
   ]
  },
  {
   "cell_type": "markdown",
   "id": "108ece19",
   "metadata": {},
   "source": [
    "## Parte 3: Práctica con robot EduRoMAA\n",
    "\n",
    "\n",
    "1. Para realizar el movimiento pedido se realizaron las funciones `stopped`, `moveForward` y `moveBackward`:\n",
    "\n",
    "\n",
    "\n",
    "```c++\n",
    "    void moveForward(unsigned long ms){\n",
    "\tPWM = STOP;\n",
    "\n",
    "\twhile(PWM <= 254){\n",
    "\t\tanalogWrite(MOTOR_DER, PWM);\n",
    "\t\tanalogWrite(MOTOR_IZQ, PWM);\n",
    "\t\tdelay((unsigned long)((ms/4)/127));\n",
    "\t\tPWM = PWM + 1;\n",
    "\t}\t\n",
    "\n",
    "\tdelay((unsigned long)(((ms/2))));\n",
    "\t\n",
    "\n",
    "\twhile(PWM >= 128){\n",
    "\t\tanalogWrite(MOTOR_DER, PWM);\n",
    "\t\tanalogWrite(MOTOR_IZQ, PWM);\n",
    "\t\tdelay((unsigned long)(((ms/4)/127)));\n",
    "\t\tPWM = PWM - 1;\n",
    "\t}\n",
    "}\n",
    "```\n",
    "\n",
    "\n",
    "\n",
    "\n",
    "``` c++ \n",
    "    void moveBackward(unsigned long ms){\n",
    "\tPWM = STOP;\n",
    "\n",
    "\twhile(PWM >= 1){\n",
    "\t\tanalogWrite(MOTOR_DER, PWM);\n",
    "\t\tanalogWrite(MOTOR_IZQ, PWM);\n",
    "\t\tdelay((unsigned long)((ms/4)/127));\n",
    "\t\tPWM = PWM - 1;\n",
    "\t}\n",
    "\tPWM = 0;\n",
    "  analogWrite(MOTOR_DER, PWM);\n",
    "  analogWrite(MOTOR_IZQ, PWM);  \n",
    "\tdelay((unsigned long)((ms/2)));\n",
    "\t\n",
    "\twhile(PWM <= 125){\n",
    "\t\tanalogWrite(MOTOR_DER,PWM);\n",
    "\t\tanalogWrite(MOTOR_IZQ,PWM);\n",
    "\t\tdelay((unsigned long)((ms/4)/127));\n",
    "\t\tPWM = PWM +1;\n",
    "\t}\n",
    "}\n",
    "```\n",
    "\n",
    "\n",
    "\n",
    "\n",
    "```c++\n",
    "   void halt(unsigned long ms){\n",
    "\tanalogWrite(MOTOR_DER, STOP);\n",
    "\tanalogWrite(MOTOR_IZQ, STOP);\n",
    "\tdelay(ms);\n",
    "} \n",
    "```"
   ]
  },
  {
   "cell_type": "markdown",
   "id": "9a28384a",
   "metadata": {},
   "source": [
    "El bucle principal del programa llama a las funciones anteriores de la siguiente forma:"
   ]
  },
  {
   "cell_type": "markdown",
   "id": "b51fdbf4",
   "metadata": {},
   "source": [
    "```c++\n",
    "    void loop(){\n",
    "        halt(2000);\n",
    "        moveForward(2000);\n",
    "        halt(2000);\n",
    "        moveBackward(2000);\n",
    "    }\n",
    "\n",
    "```"
   ]
  },
  {
   "cell_type": "markdown",
   "id": "7cb89420",
   "metadata": {},
   "source": [
    "2. Para que el motor realice una trayectoria cuadrada, se agregó la función que sigue para realizar giros sobre el eje del motor:"
   ]
  },
  {
   "cell_type": "markdown",
   "id": "e52e961a",
   "metadata": {},
   "source": [
    "```c++\n",
    "   void twist(int ms){\n",
    "\t\n",
    "\tPWM1 = 128;\n",
    "    PWM2 = 126;\n",
    "  \n",
    "\twhile(PWM1 <= 254){\n",
    "\n",
    "    if(PWM1 == 128){\n",
    "      PWM1 = PWM1 + 1;\n",
    "      PWM2 = 126;\n",
    "      }\n",
    "    else{\n",
    "      PWM1 = PWM1 + 1;\n",
    "      PWM2 = ~PWM1;\n",
    "      }\n",
    "\t\tanalogWrite(MOTOR_DER,  PWM1);\n",
    "\t\tanalogWrite(MOTOR_IZQ,  PWM2);\n",
    "\t\tdelay((unsigned long)((ms/4)/127));\n",
    "\t}\t\n",
    "\n",
    "\n",
    "\tPWM1 =  255;\n",
    "  PWM2 = ~PWM1;\n",
    "\tanalogWrite(MOTOR_DER,  PWM1);\n",
    "\tanalogWrite(MOTOR_IZQ,  PWM2);\n",
    "\tdelay((unsigned long)(((ms/2)/127)));\n",
    "\t\n",
    "\n",
    "\twhile(PWM1 >= 128){\n",
    "\t\tPWM1 =  PWM1 - 1;\n",
    "    PWM2 = ~PWM1;\n",
    "    analogWrite(MOTOR_DER,  PWM1);\n",
    "    analogWrite(MOTOR_IZQ,  PWM2);\n",
    "    delay((unsigned long)(((ms/4)/127)));\n",
    "\t}\n",
    "\n",
    "}  \n",
    "```"
   ]
  },
  {
   "cell_type": "markdown",
   "id": "0991950a",
   "metadata": {},
   "source": [
    "Luego, el bucle del programa se implementa de la siguiente manera:"
   ]
  },
  {
   "cell_type": "markdown",
   "id": "18c627ad",
   "metadata": {},
   "source": [
    "```c++\n",
    "void loop(){\n",
    "\n",
    "  moveForward(1000);\n",
    "  halt(2500);\n",
    "  \n",
    "  twist(1000);\n",
    "  halt(500);\n",
    "  \n",
    "  moveForward(1000);\n",
    "  halt(2500);\n",
    "  \n",
    "  twist(1000);\n",
    "  halt(2500);\n",
    "  \n",
    "  moveForward(1000);\n",
    "  halt(2500);  \n",
    "  \n",
    "  twist(1000);\n",
    "  halt(2500);\n",
    "\n",
    "  moveForward(1000);\n",
    "  halt(2500);\n",
    "\n",
    "}\n",
    "```"
   ]
  },
  {
   "cell_type": "markdown",
   "id": "aa2cf4a7",
   "metadata": {},
   "source": [
    "3. "
   ]
  },
  {
   "cell_type": "markdown",
   "id": "795f57bb",
   "metadata": {},
   "source": [
    "    1. En este caso los valores de las acciones de control usados son \n",
    "    2. Se puede observar que es muy dificil que el robot siga una trayectoria predecible. Al realizarse los movimientos sin ningún tipo de información como realimentación para determinar su posición y orientación los movimientos carecen de precisión\n",
    "    3. No. El robot luego de varios ciclos no vuelve al punto de partida\n",
    "    4. Aproximadamente pero no de forma exacta"
   ]
  },
  {
   "cell_type": "markdown",
   "id": "a5cf0ae3",
   "metadata": {},
   "source": [
    "4.  "
   ]
  }
 ],
 "metadata": {
  "kernelspec": {
   "display_name": "Python 3 (ipykernel)",
   "language": "python",
   "name": "python3"
  },
  "language_info": {
   "codemirror_mode": {
    "name": "ipython",
    "version": 3
   },
   "file_extension": ".py",
   "mimetype": "text/x-python",
   "name": "python",
   "nbconvert_exporter": "python",
   "pygments_lexer": "ipython3",
   "version": "3.10.6"
  }
 },
 "nbformat": 4,
 "nbformat_minor": 5
}
