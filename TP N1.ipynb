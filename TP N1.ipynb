{
 "cells": [
  {
   "cell_type": "markdown",
   "metadata": {},
   "source": [
    "# TP N1 Modelo cinemático y odometrı́a en robot de tracción diferencial\n",
    "\n",
    "\n",
    "\n",
    "## Parte 1: Cálculos analíticos\n",
    "\n",
    "Se tiene como dato que la distancia entre ruedas del robot es de $b=0.450m$ y el radio de cada rueda es de $R_{rueda}=0.140m$. Además, cada rueda puede desarrollar una velocidad máxima de $2m/s$. \n",
    "\n",
    "Teniendo en cuenta las limitaciones impuestas arriba, se plantea primero la ecuación que relaciona el radio de la trayectoria, las velocidades angulares y las lineales:\n",
    "\n",
    "$$R_{trayectoria} = \\frac{v}{\\omega} \\quad(1)$$\n",
    "\n",
    "Además se cumple que:\n",
    "\n",
    "$$v = R (\\frac{\\omega_R+\\omega_L}{2}) \\quad; \\quad \\omega = R(\\frac{\\omega_R-\\omega_L}{b}) \\quad (2)$$\n",
    "\n",
    "\n",
    "Reemplazando el par de ecuaciones $(2)$ en $(1)$ y reordenando se tiene que:\n",
    "\n",
    "\n",
    "$$v_R = v_L \\cdot \\frac{R_{trayectoria}+b/2}{R_{trayectoria}-b/2} \\quad (3)$$\n",
    "\n",
    "\n",
    "De $(3)$ obtenemos $v_R$ fijando los valores $v_L = 1m/s$ y $R_{trayectoria} = 1m$, determinando que $v_R = 1.58m/s$.\n",
    "\n",
    "\n",
    "Con estos datos se calculan las velocidades angulares de cada rueda para luego determinar las velocidades del centro odométrico del robot:\n",
    "\n",
    "$$v_L = R \\omega_L \\rightarrow \\omega_L = 7.14rad/s$$\n",
    "$$v_R = R \\omega_R \\rightarrow \\omega_R = 11.28rad/s$$\n",
    "\n",
    "\n",
    "Finalmente, la velocidad lineal del centro odométrico es determinada con la segunda ecuación del par (2):\n",
    "\n",
    "$$ \\omega = R(\\frac{\\omega_R-\\omega_L}{b}) = 0.140m \\cdot \\frac{11.28 m/s - 7.14 m/s}{0.45m} = 1.29 rad/s$$\n",
    "\n",
    "\n",
    "\n"
   ]
  },
  {
   "cell_type": "markdown",
   "metadata": {},
   "source": [
    "## Parte 2: Simulación del robot RoMAA en Gazebo"
   ]
  },
  {
   "cell_type": "markdown",
   "metadata": {},
   "source": [
    "#### 1.Generar un registro (log) de odometría y velocidad del robot con el robot en movimiento mediante teleoperación por teclado. Para ello ejecutar nuevamente la simulación y utilizar el script dump_odom.py. \n",
    "El script generó el log *log2.txt*, el cual contiene 6 columnas:\n",
    "    1. Tiempo\n",
    "    2. Coordenada x\n",
    "    3. Coordenada y\n",
    "    4. Orientacion en rad/s\n",
    "    5. Velocidad lineal en m/s\n",
    "    6. Velocidad angular en m/s\n",
    "    \n"
   ]
  },
  {
   "cell_type": "raw",
   "metadata": {
    "tags": []
   },
   "source": [
    "65.161\t-0.006057037148917491\t-0.006908233294647167\t-0.00197748107190324\t-4.810000558138568e-05\t-0.0004836449386830755\n",
    "65.201\t-0.006058586893847237\t-0.0069072728601641585\t-0.001979842071835242\t3.168451956376273e-05\t0.0014337853655501714\n",
    "65.241\t-0.006060370593601608\t-0.006908718634206196\t-0.0019614487722600282\t-6.401102316500207e-05\t-0.0011878282934810888\n",
    "65.281\t-0.0060618962124859566\t-0.006909181626544868\t-0.001955609894163942\t-5.89330195716685e-05\t0.002542448943296857\n",
    "65.321\t-0.006063929055495548\t-0.006909498578186882\t-0.0019458128489266702\t-9.513941165484178e-05\t-0.00035488634370356344\n",
    "65.361\t-0.0060654369030842675\t-0.0069111737656546365\t-0.0019329918352603847\t-5.8026739167264766e-05\t0.002251742517614298\n",
    "65.401\t-0.006067660822134932\t-0.006910230491531507\t-0.0019342864837686479\t-8.10768513350361e-05\t-0.0020644039214609802\n",
    "65.44\t-0.00606903315949231\t-0.006912602667409045\t-0.001911019858356295\t-5.7850587895064e-05\t0.0009457116407288761\n",
    "65.481\t-0.006070872334347624\t-0.006911411198736413\t-0.001916959504121289\t0.00011214832270804587\t-0.0003689119265963466\n",
    "65.524\t-0.006072425037938978\t-0.006913584743635599\t-0.001895612643636836\t-5.77932962172292e-05\t-0.0009676455217378318\n",
    "65.568\t-0.006073963783126704\t-0.006912702828237407\t-0.0018973374052027013\t-8.379813411274331e-06\t0.0017032845828706144\n",
    "65.612\t-0.006075969078765064\t-0.006913992147739294\t-0.001879562128684887\t-7.654826825488072e-05\t-0.0012302434422667575\n",
    "65.656\t-0.006077550119615097\t-0.006915386684035649\t-0.001868133380872568\t-5.205538309629955e-05\t0.0021598982319992674\n",
    "65.7\t-0.006079653559995082\t-0.006914588230930041\t-0.0018653226743585358\t-7.320319575075738e-05\t-0.00195274671246848\n",
    "65.744\t-0.0060810220587232955\t-0.006917194549387056\t-0.0018474714258649527\t-3.729702259821787e-05\t0.00043199203760416004\n",
    "65.788\t-0.006083052058485444\t-0.006915966749592645\t-0.001851846624932725\t7.426789565836094e-05\t-0.001166978101764843\n",
    "65.832\t-0.006084459290714564\t-0.0069180898570522\t-0.0018294552064813572\t-6.990619021043893e-05\t0.00042543453058532734"
   ]
  },
  {
   "cell_type": "markdown",
   "metadata": {},
   "source": [
    "#### 2. Escribir un script en Python que cargue los datos del archivo de log y genere gráficos de: i) el camino seguido por el robot, ii) la trayectoria (pose respecto al tiempo) y iii) la velocidad del robot respecto al tiempo.\n",
    "\n",
    "Para ello, se escribió un script de Python llamado *log-py.py*:"
   ]
  },
  {
   "cell_type": "code",
   "execution_count": 3,
   "metadata": {
    "jupyter": {
     "outputs_hidden": true
    },
    "tags": []
   },
   "outputs": [
    {
     "ename": "FileNotFoundError",
     "evalue": "[Errno 2] No such file or directory: 'circle.txt'",
     "output_type": "error",
     "traceback": [
      "\u001b[0;31m---------------------------------------------------------------------------\u001b[0m",
      "\u001b[0;31mFileNotFoundError\u001b[0m                         Traceback (most recent call last)",
      "\u001b[0;32m<ipython-input-3-745630122da5>\u001b[0m in \u001b[0;36m<module>\u001b[0;34m\u001b[0m\n\u001b[1;32m      5\u001b[0m \u001b[0mdata\u001b[0m \u001b[0;34m=\u001b[0m \u001b[0;34m[\u001b[0m\u001b[0;34m]\u001b[0m \u001b[0;31m#lista donde se van guardar las diferentes variables\u001b[0m\u001b[0;34m\u001b[0m\u001b[0;34m\u001b[0m\u001b[0m\n\u001b[1;32m      6\u001b[0m \u001b[0;31m#Lee archivo\u001b[0m\u001b[0;34m\u001b[0m\u001b[0;34m\u001b[0m\u001b[0;34m\u001b[0m\u001b[0m\n\u001b[0;32m----> 7\u001b[0;31m \u001b[0;32mwith\u001b[0m \u001b[0mopen\u001b[0m\u001b[0;34m(\u001b[0m\u001b[0;34m'circle.txt'\u001b[0m\u001b[0;34m,\u001b[0m \u001b[0;34m'r'\u001b[0m\u001b[0;34m)\u001b[0m \u001b[0;32mas\u001b[0m \u001b[0mfile\u001b[0m\u001b[0;34m:\u001b[0m\u001b[0;34m\u001b[0m\u001b[0;34m\u001b[0m\u001b[0m\n\u001b[0m\u001b[1;32m      8\u001b[0m     \u001b[0;32mfor\u001b[0m \u001b[0mline\u001b[0m \u001b[0;32min\u001b[0m \u001b[0mfile\u001b[0m\u001b[0;34m:\u001b[0m \u001b[0;31m#bucle que recorre todas las filas\u001b[0m\u001b[0;34m\u001b[0m\u001b[0;34m\u001b[0m\u001b[0m\n\u001b[1;32m      9\u001b[0m         \u001b[0mline\u001b[0m \u001b[0;34m=\u001b[0m \u001b[0mline\u001b[0m\u001b[0;34m.\u001b[0m\u001b[0mstrip\u001b[0m\u001b[0;34m(\u001b[0m\u001b[0;34m)\u001b[0m\u001b[0;34m.\u001b[0m\u001b[0msplit\u001b[0m\u001b[0;34m(\u001b[0m\u001b[0;34m)\u001b[0m \u001b[0;31m#divide las columnas\u001b[0m\u001b[0;34m\u001b[0m\u001b[0;34m\u001b[0m\u001b[0m\n",
      "\u001b[0;31mFileNotFoundError\u001b[0m: [Errno 2] No such file or directory: 'circle.txt'"
     ]
    }
   ],
   "source": [
    "import matplotlib.pyplot as plt \n",
    "import numpy as np\n",
    "\n",
    "\n",
    "data = [] #lista donde se van guardar las diferentes variables \n",
    "#Lee archivo\n",
    "with open('circle.txt', 'r') as file:\n",
    "    for line in file: #bucle que recorre todas las filas\n",
    "        line = line.strip().split() #divide las columnas\n",
    "        time = float(line[0]) #primera columna\n",
    "        x = float(line[1]) #segunda columna y asi sucesivamente\n",
    "        y = float(line[2]) \n",
    "        orientation = float(line[3])\n",
    "        linear = float(line[4])\n",
    "        angular = float(line[5])\n",
    "        data.append((time, x, y, orientation, linear, angular)) #a la misma posicion de la lista se guardan las 6 variables dependientes del tiempo\n"
   ]
  },
  {
   "cell_type": "markdown",
   "metadata": {},
   "source": [
    "Luego recorre la lista *data* a medida que corre el script:"
   ]
  },
  {
   "cell_type": "code",
   "execution_count": null,
   "metadata": {
    "tags": []
   },
   "outputs": [],
   "source": [
    "time_values = [item[0] for item in data]\n",
    "x_values    = [item[1] for item in data]\n",
    "y_values    = [item[2] for item in data]\n",
    "or_values   = [item[3] for item in data]\n",
    "lin_values  = [item[4] for item in data]\n",
    "ang_values  = [item[5] for item in data]\n"
   ]
  },
  {
   "cell_type": "markdown",
   "metadata": {
    "tags": []
   },
   "source": [
    "Finalmente va mostrando los diferentes gráficos:"
   ]
  },
  {
   "cell_type": "code",
   "execution_count": null,
   "metadata": {},
   "outputs": [],
   "source": [
    "axs[0].scatter(x_values, y_values) #toma los valores x e y\n",
    "axs[0].set_xlabel('X') #etiqueta los ejes \n",
    "axs[0].set_ylabel('Y')\n",
    "axs[0].set_title('Camino') #titulo del gráfico\n",
    "axs[0].set_aspect('equal') #setea el tamaño en un cuadrado\n",
    "\n",
    "\n",
    "axs[1].plot(time_values, x_values, label='Posición X') \n",
    "axs[1].plot(time_values, y_values, label='Posición Y') \n",
    "axs[1].plot(time_values, or_values, label='Orientación')\n",
    "axs[1].set_xlabel('Tiempo')\n",
    "axs[1].set_ylabel('Valor')\n",
    "axs[1].set_title('Pose del Robot con respecto al Tiempo')\n",
    "axs[1].legend()\n",
    "\n",
    "\n",
    "axs[2].plot(time_values, lin_values, label='Velocidad Lineal')\n",
    "axs[2].set_xlabel('Tiempo')\n",
    "axs[2].set_ylabel('Velocidad Lineal')\n",
    "axs[2].set_title('Velocidad Lineal respecto al Tiempo')\n",
    "axs[2].legend()\n",
    "\n",
    "axs[3].plot(time_values, ang_values, label='Velocidad Angular')\n",
    "axs[3].set_xlabel('Tiempo')\n",
    "axs[3].set_ylabel('Velocidad Angular')\n",
    "axs[3].set_title('Velocidad Angular respecto al Tiempo')\n",
    "axs[3].legend()\n",
    "\n",
    "plt.tight_layout()\n",
    "plt.show()\n"
   ]
  },
  {
   "cell_type": "markdown",
   "metadata": {},
   "source": [
    "#### 3. Obtener otro registro de datos para un camino circular del robot y gráficar el camino y la trayectoria. Marcar tres puntos cualquiera en el gráfico del camino del robot y sus correspondientes puntos en la trayectoria. Elegir puntos que no se correspondan con el inicio o el final del camino.\n",
    "Como en el primer punto, se realizó el log con *dump-odom.py*, esta vez guardandolo en un archivo llamado *circle.txt*, obteniendo asi un camino circular.\n",
    "Para el ploteo del camino y la generación de puntos sobre el gráfico, se realizó otro script llamado *points_marker.py*.\n"
   ]
  },
  {
   "cell_type": "markdown",
   "metadata": {},
   "source": [
    "Se procede de la misma manera que en el script anterior, pero se generarán 3 puntos para guardar las diferentes variables:"
   ]
  },
  {
   "cell_type": "code",
   "execution_count": null,
   "metadata": {},
   "outputs": [],
   "source": [
    "import matplotlib.pyplot as plt\n",
    "import numpy as np\n",
    "import random\n",
    "\n",
    "data = []\n",
    "p1 = []\n",
    "p2 = []\n",
    "p3 = []\n",
    "\n",
    "#Lee archivo\n",
    "with open('/home/mateo/simulation_ws/src/circle.txt', 'r') as file:\n",
    "    for line in file:\n",
    "        line = line.strip().split()\n",
    "        time = float(line[0])\n",
    "        x = float(line[1]) \n",
    "        y = float(line[2]) \n",
    "        orientation = float(line[3])\n",
    "        linear = float(line[4])\n",
    "        angular = float(line[5])\n",
    "        data.append((time, x, y, orientation, linear, angular))  \n",
    "\n",
    "datalen = len(data)\n",
    "\n",
    "time_values = [item[0] for item in data]\n",
    "x_values    = [item[1] for item in data]\n",
    "y_values    = [item[2] for item in data]\n",
    "or_values   = [item[3] for item in data]\n",
    "lin_values  = [item[4] for item in data]\n",
    "ang_values  = [item[5] for item in data]\n"
   ]
  },
  {
   "cell_type": "markdown",
   "metadata": {},
   "source": [
    "Luego, se generan 3 puntos aleatorios sobre el camino, y se asigna cada variable para luego plotearla:"
   ]
  },
  {
   "cell_type": "code",
   "execution_count": null,
   "metadata": {},
   "outputs": [],
   "source": [
    "fig, axs = plt.subplots(2, 1, figsize=(10, 15))\n",
    "\n",
    "p1 = data[random.randint(1, datalen-1)]\n",
    "p2 = data[random.randint(1, datalen-1)]\n",
    "p3 = data[random.randint(1, datalen-1)]\n",
    "\n",
    "p1_time = p1[0]\n",
    "p1_x = p1[1]\n",
    "p1_y = p1[2]\n",
    "\n",
    "p2_time = p2[0]\n",
    "p2_x = p2[1]\n",
    "p2_y = p2[2]\n",
    "\n",
    "p3_time = p3[0]\n",
    "p3_x = p3[1]\n",
    "p3_y = p3[2]\n",
    "\n",
    "\n"
   ]
  },
  {
   "cell_type": "markdown",
   "metadata": {},
   "source": [
    "Finalmente se procede de la misma manera graficando camino y puntos:"
   ]
  },
  {
   "cell_type": "code",
   "execution_count": null,
   "metadata": {},
   "outputs": [],
   "source": [
    "axs[0].scatter(x_values, y_values)\n",
    "axs[0].set_xlabel('X')\n",
    "axs[0].set_ylabel('Y')\n",
    "axs[0].scatter(p1_x, p1_y, color = 'red')\n",
    "axs[0].scatter(p2_x, p2_y, color = 'green')\n",
    "axs[0].scatter(p3_x, p3_y, color = 'yellow')\n",
    "axs[0].set_title('Camino')\n",
    "axs[0].set_aspect('equal')\n",
    "\n",
    "\n",
    "axs[1].plot(time_values, x_values, label='Posición X')\n",
    "axs[1].plot(time_values, y_values, label='Posición Y')\n",
    "axs[1].plot(time_values, or_values, label='Orientación')\n",
    "axs[1].scatter(p1_time, p1_x, color = 'red')\n",
    "axs[1].scatter(p2_time, p2_x, color = 'green')\n",
    "axs[1].scatter(p3_time, p3_x, color = 'yellow')\n",
    "axs[1].scatter(p1_time, p1_y, color = 'red')\n",
    "axs[1].scatter(p2_time, p2_y, color = 'green')\n",
    "axs[1].scatter(p3_time, p3_y, color = 'yellow')\n",
    "axs[1].set_xlabel('Tiempo')\n",
    "axs[1].set_ylabel('Valor')\n",
    "axs[1].set_title('Pose del Robot con respecto al Tiempo')\n",
    "axs[1].legend()\n",
    "\n",
    "plt.tight_layout()\n",
    "plt.show()\n"
   ]
  },
  {
   "cell_type": "markdown",
   "metadata": {},
   "source": [
    "#### 4. En base a los gráficos anteriores:\n",
    "#### ¿Cuáles son los rangos de valores de las coordenadas x e y y por qué?\n",
    "#### ¿Cuál es el rango de valores de la orientación del robot y por qué?\n",
    "En primera instancia, para el camino cuadrado, los rangos de valores serán acotados al manejo que le demos nosotros, debido a que se controlaba a través de publicaciones de un mensaje de tipo Twist, el cual estaba procesado por las flechas del teclado. En el camino circular, el rango de las coordenadas estará delimitado por la velocidad angular del centro odométrico del robot. Por lo tanto, no podrá salir del radio que establece esa velocidad angular.\n",
    "En segundo lugar, la orientacion del robot para el camino cuadrado cambiará de 90° en 90°. Para el camino circular, el irá variando progresivamente de $-\\pi$ a $\\pi$, como podemos ver en el gráfico de orientación. La orientación estará acotada a esos valores para ambos casos."
   ]
  },
  {
   "cell_type": "markdown",
   "metadata": {},
   "source": [
    "#### 5. Obtener diferentes registros y gráficos para caminos circulares con diferentes valores (positivos y negativos) de velocidades lineales y angulares (utilizar todas las combinaciones de signos posibles). Indicar en los gráficos el sentido de avance del robot.\n",
    "\n",
    "Para ello se escribió otro script de python llamado *circle_paths.py*, el cual tendrá cargada la ruta de acceso de todos los logs generados, y a partir del numero que le ingresemos, mostrará el camino requerido:"
   ]
  },
  {
   "cell_type": "code",
   "execution_count": null,
   "metadata": {},
   "outputs": [],
   "source": [
    "mport matplotlib.pyplot as plt\n",
    "\n",
    "# Leer el archivo generado por dump_odom.py y extraer los valores\n",
    "data = []\n",
    "cwPath1 = 'cw_0.5linear_0.49angular.txt'\n",
    "cwPath2 = 'cw_0.5linear_1.0angular.txt'\n",
    "cwPath3 = 'cw_0.5linear_2.14angular.txt'\n",
    "cwPath4 = 'cw_0.15linear_1.0angular.txt'\n",
    "cwPath5 = 'cw_0.23linear_0.49angular.txt'\n",
    "cwPath6 = 'cw_1.07linear_1.0angular.txt'\n",
    "cwPath7 = 'cw_1.52linear_2.04angular.txt'\n",
    "\n",
    "ccwPath8 = 'ccw_0.5linear_1.0angular.txt'\n",
    "ccwPath9 = 'ccw_0.15linear_1.0angular.txt'\n",
    "ccwPath10 = 'ccw_1.07linear_1.0angular.txt'\n",
    "\n",
    "pathList = [cwPath1, cwPath2, cwPath3, cwPath4, cwPath5, cwPath6, cwPath7, ccwPath8, ccwPath9, ccwPath10]\n",
    "\n",
    "pathNumber = int(input(\"Para un camino horario, ingresar un numero del 0 al 6, para un camino antihorario ingresar del 7 al 9:\"))\n",
    "\n",
    "getPath = pathList[pathNumber]\n",
    "with open(getPath, 'r') as file:\n",
    "    for line in file:\n",
    "        line = line.strip().split() \n",
    "        x = float(line[1]) \n",
    "        y = float(line[2])  \n",
    "        orientation = float(line[3]) \n",
    "        data.append((x, y, orientation)) \n",
    "\n",
    "x_values = [item[0] for item in data]\n",
    "y_values = [item[1] for item in data]\n",
    "\n",
    "fig, ax = plt.subplots()\n",
    "\n",
    "\n",
    "ax.plot(x_values, y_values, '-o')\n",
    "\n",
    "\n",
    "if(pathNumber <= 6):\n",
    "    sentido = 'Horario'\n",
    "else:\n",
    "    sentido = 'Antihorario'\n",
    "ax.set_aspect('equal')\n",
    "ax.set_xlabel('Posición en X')\n",
    "ax.set_ylabel('Posición en Y')\n",
    "ax.set_title('Camino Recorrido ' + sentido)\n",
    "\n",
    "\n",
    "plt.show()"
   ]
  },
  {
   "cell_type": "markdown",
   "metadata": {},
   "source": [
    "#### 6. Describir cuál sería la secuencia de comandos de velocidad a aplicar al robot para seguir uno de los caminos mostrado a continuación (elegir sólo uno).\n",
    "![hola](notebooks/square_path1.png)"
   ]
  },
  {
   "cell_type": "markdown",
   "metadata": {},
   "source": [
    "Para ello necesitaremos un algoritmo que se repita 4 veces, debido a que tiene 4 lados del cuadrado para recorrer y un giro de 90° a realizar. Se supone que se empezará por el vertice inferior izquierdo, y se recorrerá el camino en forma antihorario."
   ]
  },
  {
   "cell_type": "markdown",
   "metadata": {},
   "source": [
    "1. Se realiza una publicación de tipo Twist para recorrer el primer lado, estableciendo la velocidad lineal en $1 m/s$ queriendo recorrerlo en 2 segundos:"
   ]
  },
  {
   "cell_type": "code",
   "execution_count": null,
   "metadata": {
    "jupyter": {
     "outputs_hidden": true
    },
    "tags": []
   },
   "outputs": [],
   "source": [
    "rostopic pub /cmd_vel geometry_msgs/msg/Twist \"{linear: {x: 1.0, y: 0.0, z: 0.0}, angular: {x: 0.0, y: 0.0, z: 0.0}}\""
   ]
  },
  {
   "cell_type": "markdown",
   "metadata": {},
   "source": [
    "2. Luego se deberá para el robot en el vertice inferior derecho, por lo tanto:"
   ]
  },
  {
   "cell_type": "code",
   "execution_count": null,
   "metadata": {
    "jupyter": {
     "outputs_hidden": true
    },
    "tags": []
   },
   "outputs": [],
   "source": [
    "rostopic pub /cmd_vel geometry_msgs/msg/Twist \"{linear: {x: 0.0, y: 0.0, z: 0.0}, angular: {x: 0.0, y: 0.0, z: 0.0}}\""
   ]
  },
  {
   "cell_type": "markdown",
   "metadata": {},
   "source": [
    "3. Se realiza el giro sobre si mismo, por lo tanto se establecerá $z=0.785 rad/s$ para realizar el giro de 90° en 2 segundos:"
   ]
  },
  {
   "cell_type": "code",
   "execution_count": null,
   "metadata": {},
   "outputs": [],
   "source": [
    "rostopic pub /cmd_vel geometry_msgs/msg/Twist \"{linear: {x: 1.0, y: 0.0, z: 0.0}, angular: {x: 0.785, y: 0.0, z: 0.0}}\""
   ]
  },
  {
   "cell_type": "markdown",
   "metadata": {},
   "source": [
    "4. Como en el punto 2, se para el robot:"
   ]
  },
  {
   "cell_type": "code",
   "execution_count": null,
   "metadata": {},
   "outputs": [],
   "source": [
    "rostopic pub /cmd_vel geometry_msgs/msg/Twist \"{linear: {x: 0.0, y: 0.0, z: 0.0}, angular: {x: 0.0, y: 0.0, z: 0.0}}\""
   ]
  },
  {
   "cell_type": "markdown",
   "metadata": {},
   "source": [
    "Este algoritmo se repetirá 4 veces para recorrer el camino de inicio a fin."
   ]
  },
  {
   "cell_type": "markdown",
   "metadata": {},
   "source": [
    "#### 7. Completar el script *square_path.py* para que el robot el robot RoMAA-II simulado en Gazebo pueda ejecutar el camino cuadrado mostrado en el punto anterior."
   ]
  },
  {
   "cell_type": "markdown",
   "metadata": {},
   "source": [
    "Para realizar este punto se tomó el algoritmo del punto 6 y se pasó a Python completando el script donde hacía falta, el cual quedaría:"
   ]
  },
  {
   "cell_type": "code",
   "execution_count": null,
   "metadata": {
    "jupyter": {
     "source_hidden": true
    },
    "tags": []
   },
   "outputs": [],
   "source": [
    "       # Completar el código\n",
    "        vel = Twist()\n",
    "        count = 0\n",
    "        while(count < 4):\n",
    "            vel.linear.x = 1.0 #setea velocidad lineal en 1 m/s\n",
    "            vel.angular.z = 0.0 #velocidad angular en 0 debido a que recorre un tramo derecho\n",
    "            self.pub.publish(vel) #publicación del mensaje tipo Twist en el tópico /cmd_vel\n",
    "            rospy.sleep(2.0) #delay de 2 segundos que establece el tiempo de recorrido\n",
    "\n",
    "            vel.linear.x = 0.0 #seteo ambas velocidades en 0 para realizar el giro de 90°\n",
    "            vel.angular.z = 0.0 \n",
    "            self.pub.publish(vel)\n",
    "            rospy.sleep(0.5)\n",
    "\n",
    "            vel.linear.x = 0.0 \n",
    "            vel.angular.z = 0.785 # en rad/seg, establezco el giro de 90° en 2 segundos \n",
    "            self.pub.publish(vel)\n",
    "            rospy.sleep(2)\n",
    "\n",
    "            vel.linear.x = 0.0 \n",
    "            vel.angular.z = 0.0 # en rad/seg, establezco el giro de 90° en 2 segundos \n",
    "            self.pub.publish(vel)\n",
    "            rospy.sleep(0.5)\n",
    "            count+1\n",
    "\n",
    "        # FIN: fija velocidad 0"
   ]
  },
  {
   "cell_type": "markdown",
   "metadata": {
    "tags": []
   },
   "source": [
    "## Parte 3: Práctica con robot EduRoMAA\n",
    "\n",
    "\n",
    "1. Para realizar el movimiento pedido se realizaron las funciones `stopped`, `moveForward` y `moveBackward`:\n",
    "\n",
    "\n",
    "\n",
    "```c++\n",
    "    void moveForward(unsigned long ms){\n",
    "\tPWM = STOP;\n",
    "\n",
    "\twhile(PWM <= 254){\n",
    "\t\tanalogWrite(MOTOR_DER, PWM);\n",
    "\t\tanalogWrite(MOTOR_IZQ, PWM);\n",
    "\t\tdelay((unsigned long)((ms/4)/127));\n",
    "\t\tPWM = PWM + 1;\n",
    "\t}\t\n",
    "\n",
    "\tdelay((unsigned long)(((ms/2))));\n",
    "\t\n",
    "\n",
    "\twhile(PWM >= 128){\n",
    "\t\tanalogWrite(MOTOR_DER, PWM);\n",
    "\t\tanalogWrite(MOTOR_IZQ, PWM);\n",
    "\t\tdelay((unsigned long)(((ms/4)/127)));\n",
    "\t\tPWM = PWM - 1;\n",
    "\t}\n",
    "}\n",
    "```\n",
    "\n",
    "\n",
    "\n",
    "\n",
    "``` c++ \n",
    "    void moveBackward(unsigned long ms){\n",
    "\tPWM = STOP;\n",
    "\n",
    "\twhile(PWM >= 1){\n",
    "\t\tanalogWrite(MOTOR_DER, PWM);\n",
    "\t\tanalogWrite(MOTOR_IZQ, PWM);\n",
    "\t\tdelay((unsigned long)((ms/4)/127));\n",
    "\t\tPWM = PWM - 1;\n",
    "\t}\n",
    "\tPWM = 0;\n",
    "  analogWrite(MOTOR_DER, PWM);\n",
    "  analogWrite(MOTOR_IZQ, PWM);  \n",
    "\tdelay((unsigned long)((ms/2)));\n",
    "\t\n",
    "\twhile(PWM <= 125){\n",
    "\t\tanalogWrite(MOTOR_DER,PWM);\n",
    "\t\tanalogWrite(MOTOR_IZQ,PWM);\n",
    "\t\tdelay((unsigned long)((ms/4)/127));\n",
    "\t\tPWM = PWM +1;\n",
    "\t}\n",
    "}\n",
    "```\n",
    "\n",
    "\n",
    "\n",
    "\n",
    "```c++\n",
    "   void halt(unsigned long ms){\n",
    "\tanalogWrite(MOTOR_DER, STOP);\n",
    "\tanalogWrite(MOTOR_IZQ, STOP);\n",
    "\tdelay(ms);\n",
    "} \n",
    "```"
   ]
  },
  {
   "cell_type": "markdown",
   "metadata": {},
   "source": [
    "El bucle principal del programa llama a las funciones anteriores de la siguiente forma:"
   ]
  },
  {
   "cell_type": "markdown",
   "metadata": {},
   "source": [
    "```c++\n",
    "    void loop(){\n",
    "        halt(2000);\n",
    "        moveForward(2000);\n",
    "        halt(2000);\n",
    "        moveBackward(2000);\n",
    "    }\n",
    "\n",
    "```"
   ]
  },
  {
   "cell_type": "markdown",
   "metadata": {},
   "source": [
    "2. Para que el motor realice una trayectoria cuadrada, se agregó la función que sigue para realizar giros sobre el eje del motor:"
   ]
  },
  {
   "cell_type": "markdown",
   "metadata": {},
   "source": [
    "```c++\n",
    "   void twist(int ms){\n",
    "\t\n",
    "\tPWM1 = 128;\n",
    "    PWM2 = 126;\n",
    "  \n",
    "\twhile(PWM1 <= 254){\n",
    "\n",
    "    if(PWM1 == 128){\n",
    "      PWM1 = PWM1 + 1;\n",
    "      PWM2 = 126;\n",
    "      }\n",
    "    else{\n",
    "      PWM1 = PWM1 + 1;\n",
    "      PWM2 = ~PWM1;\n",
    "      }\n",
    "\t\tanalogWrite(MOTOR_DER,  PWM1);\n",
    "\t\tanalogWrite(MOTOR_IZQ,  PWM2);\n",
    "\t\tdelay((unsigned long)((ms/4)/127));\n",
    "\t}\t\n",
    "\n",
    "\n",
    "\tPWM1 =  255;\n",
    "  PWM2 = ~PWM1;\n",
    "\tanalogWrite(MOTOR_DER,  PWM1);\n",
    "\tanalogWrite(MOTOR_IZQ,  PWM2);\n",
    "\tdelay((unsigned long)(((ms/2)/127)));\n",
    "\t\n",
    "\n",
    "\twhile(PWM1 >= 128){\n",
    "\t\tPWM1 =  PWM1 - 1;\n",
    "    PWM2 = ~PWM1;\n",
    "    analogWrite(MOTOR_DER,  PWM1);\n",
    "    analogWrite(MOTOR_IZQ,  PWM2);\n",
    "    delay((unsigned long)(((ms/4)/127)));\n",
    "\t}\n",
    "\n",
    "}  \n",
    "```"
   ]
  },
  {
   "cell_type": "markdown",
   "metadata": {},
   "source": [
    "Luego, el bucle del programa se implementa de la siguiente manera:"
   ]
  },
  {
   "cell_type": "markdown",
   "metadata": {},
   "source": [
    "```c++\n",
    "void loop(){\n",
    "\n",
    "  moveForward(1000);\n",
    "  halt(2500);\n",
    "  \n",
    "  twist(1000);\n",
    "  halt(500);\n",
    "  \n",
    "  moveForward(1000);\n",
    "  halt(2500);\n",
    "  \n",
    "  twist(1000);\n",
    "  halt(2500);\n",
    "  \n",
    "  moveForward(1000);\n",
    "  halt(2500);  \n",
    "  \n",
    "  twist(1000);\n",
    "  halt(2500);\n",
    "\n",
    "  moveForward(1000);\n",
    "  halt(2500);\n",
    "\n",
    "}\n",
    "```"
   ]
  },
  {
   "cell_type": "markdown",
   "metadata": {},
   "source": [
    "3. "
   ]
  },
  {
   "cell_type": "markdown",
   "metadata": {},
   "source": [
    "    1. En este caso los valores de las acciones de control usados son \n",
    "    2. Se puede observar que es muy dificil que el robot siga una trayectoria predecible. Al realizarse los movimientos sin ningún tipo de información como realimentación para determinar su posición y orientación los movimientos carecen de precisión\n",
    "    3. No. El robot luego de varios ciclos no vuelve al punto de partida\n",
    "    4. Aproximadamente pero no de forma exacta"
   ]
  },
  {
   "cell_type": "markdown",
   "metadata": {},
   "source": [
    "4.  "
   ]
  }
 ],
 "metadata": {
  "kernelspec": {
   "display_name": "Python 3",
   "language": "python",
   "name": "python3"
  },
  "language_info": {
   "codemirror_mode": {
    "name": "ipython",
    "version": 3
   },
   "file_extension": ".py",
   "mimetype": "text/x-python",
   "name": "python",
   "nbconvert_exporter": "python",
   "pygments_lexer": "ipython3",
   "version": "3.8.10"
  }
 },
 "nbformat": 4,
 "nbformat_minor": 5
}
